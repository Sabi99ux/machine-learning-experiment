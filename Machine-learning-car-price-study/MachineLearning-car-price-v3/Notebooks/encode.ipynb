{
 "cells": [
  {
   "cell_type": "code",
   "execution_count": 1,
   "id": "4970dde4",
   "metadata": {},
   "outputs": [],
   "source": [
    "import pandas as pd\n",
    "import joblib\n",
    "from sklearn.preprocessing import LabelEncoder"
   ]
  },
  {
   "cell_type": "code",
   "execution_count": null,
   "id": "e181332f",
   "metadata": {},
   "outputs": [],
   "source": [
    "data = pd.read_csv(\"../Dataset/Raw/Dataset_car_v3.csv\")\n",
    "\n",
    "kolom_kategori = ['brand','model','fuel_type','transmission','body_type','color',\n",
    "                  'drive_type','tax_status']\n",
    "\n",
    "label_encoders = {}\n",
    "for kolom in kolom_kategori:\n",
    "    le = LabelEncoder()\n",
    "    data[kolom + '_encoded'] = le.fit_transform(data[kolom])\n",
    "    label_encoders[kolom] = le\n",
    "\n",
    "joblib.dump(label_encoders, \"../Model/label_encoders_car_price_v2.pkl\")\n",
    "data.to_csv(\"../Dataset/Cleandataset/Dataset_car_encoder_v3.csv\", index=False)"
   ]
  }
 ],
 "metadata": {
  "kernelspec": {
   "display_name": "Python 3",
   "language": "python",
   "name": "python3"
  },
  "language_info": {
   "codemirror_mode": {
    "name": "ipython",
    "version": 3
   },
   "file_extension": ".py",
   "mimetype": "text/x-python",
   "name": "python",
   "nbconvert_exporter": "python",
   "pygments_lexer": "ipython3",
   "version": "3.13.5"
  }
 },
 "nbformat": 4,
 "nbformat_minor": 5
}
