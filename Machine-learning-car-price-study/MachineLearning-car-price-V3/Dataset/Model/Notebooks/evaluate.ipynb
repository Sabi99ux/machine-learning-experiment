{
 "cells": [
  {
   "cell_type": "code",
   "execution_count": 7,
   "id": "19a84172",
   "metadata": {},
   "outputs": [],
   "source": [
    "import pandas as pd\n",
    "import numpy as np\n",
    "import joblib\n",
    "import json\n",
    "from sklearn.model_selection import train_test_split\n",
    "from sklearn.metrics import mean_squared_error,r2_score"
   ]
  },
  {
   "cell_type": "code",
   "execution_count": 8,
   "id": "90844651",
   "metadata": {},
   "outputs": [],
   "source": [
    "model = joblib.load('../Model/Model_car_price_lgbm_v3.pkl')\n",
    "\n",
    "data = pd.read_csv('../Dataset/Cleandataset/Dataset_car_encoder_v3.csv')\n",
    "\n",
    "X = data[['brand_encoded','model_encoded','year','engine_size',\n",
    "          'fuel_type_encoded','transmission_encoded','mileage','body_type_encoded',\n",
    "          'color_encoded','drive_type_encoded','doors','seats','vehicle_age','tax_status_encoded','has_sunroof',\n",
    "          'has_gps','service_record','accident_history','mileage_per_year','mileage_log','engine_per_seat',\n",
    "          'features_count','is_premium_brand','freq_brand','age_x_mileage']]\n",
    "\n",
    "Y = data['price']"
   ]
  },
  {
   "cell_type": "code",
   "execution_count": 9,
   "id": "a103c4b4",
   "metadata": {},
   "outputs": [
    {
     "name": "stdout",
     "output_type": "stream",
     "text": [
      "[LightGBM] [Warning] min_data_in_leaf is set=1000, min_child_samples=20 will be ignored. Current value: min_data_in_leaf=1000\n",
      "Prediksi: 8961.84\n",
      "Real    : 7953.00\n",
      "Prediksi: 6674.65\n",
      "Real    : 6433.00\n",
      "Prediksi: 4673.68\n",
      "Real    : 8803.00\n",
      "Prediksi: 15357.52\n",
      "Real    : 14742.00\n",
      "Prediksi: -1058.51\n",
      "Real    : 1096.00\n",
      "RMSE : 2001.58\n",
      "R²   : 0.8692\n"
     ]
    }
   ],
   "source": [
    "X_train, X_test, y_train, y_test = train_test_split(X, Y, test_size=0.3, random_state=42)\n",
    "\n",
    "prediksi = model.predict(X_test)\n",
    "\n",
    "mse = mean_squared_error(y_test, prediksi)\n",
    "rmse = np.sqrt(mse)\n",
    "r2 = r2_score(y_test, prediksi)\n",
    "\n",
    "for i in range(5):\n",
    "    print(f\"Prediksi: {prediksi[i]:.2f}\")\n",
    "    print(f\"Real    : {y_test.values[i]:.2f}\")\n",
    "\n",
    "print(f\"RMSE : {rmse:.2f}\")\n",
    "print(f\"R²   : {r2:.4f}\")\n",
    "\n",
    "hasil_evaluasi = {\n",
    "    \"RMSE\": float(rmse),\n",
    "    \"R2\": float(r2),\n",
    "    \"contoh_prediksi\": [\n",
    "        {\"prediksi\": float(prediksi[i]), \"real\": float(y_test.values[i])}\n",
    "        for i in range(5)\n",
    "    ]\n",
    "}\n",
    "\n",
    "with open(\"../Result/evaluasi_lgbm_v3.json\", \"w\") as f:\n",
    "    json.dump(hasil_evaluasi, f, indent=4)"
   ]
  }
 ],
 "metadata": {
  "kernelspec": {
   "display_name": "Python 3",
   "language": "python",
   "name": "python3"
  },
  "language_info": {
   "codemirror_mode": {
    "name": "ipython",
    "version": 3
   },
   "file_extension": ".py",
   "mimetype": "text/x-python",
   "name": "python",
   "nbconvert_exporter": "python",
   "pygments_lexer": "ipython3",
   "version": "3.13.5"
  }
 },
 "nbformat": 4,
 "nbformat_minor": 5
}
