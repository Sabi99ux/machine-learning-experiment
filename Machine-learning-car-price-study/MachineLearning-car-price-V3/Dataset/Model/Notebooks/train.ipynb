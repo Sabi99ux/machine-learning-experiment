{
 "cells": [
  {
   "cell_type": "code",
   "execution_count": null,
   "id": "a6932579",
   "metadata": {},
   "outputs": [],
   "source": [
    "import pandas as pd \n",
    "import joblib\n",
    "from sklearn.model_selection import train_test_split\n",
    "from lightgbm import LGBMRegressor\n",
    "from lightgbm import early_stopping, log_evaluation"
   ]
  },
  {
   "cell_type": "code",
   "execution_count": 101,
   "id": "8cf0a222",
   "metadata": {},
   "outputs": [],
   "source": [
    "data = pd.read_csv('../Dataset/Cleandataset/Dataset_car_encoder_v3.csv')\n",
    "\n",
    "X = data[['brand_encoded','model_encoded','year','engine_size',\n",
    "          'fuel_type_encoded','transmission_encoded','mileage','body_type_encoded',\n",
    "          'color_encoded','drive_type_encoded','doors','seats','vehicle_age','tax_status_encoded','has_sunroof',\n",
    "          'has_gps','service_record','accident_history','mileage_per_year','mileage_log','engine_per_seat',\n",
    "          'features_count','is_premium_brand','freq_brand','age_x_mileage']]\n",
    "\n",
    "Y = data['price']"
   ]
  },
  {
   "cell_type": "code",
   "execution_count": null,
   "id": "c767f84a",
   "metadata": {},
   "outputs": [
    {
     "name": "stdout",
     "output_type": "stream",
     "text": [
      "Training until validation scores don't improve for 50 rounds\n",
      "[100]\tvalid_0's rmse: 2003.05\tvalid_0's l2: 4.01219e+06\n",
      "[200]\tvalid_0's rmse: 2001.58\tvalid_0's l2: 4.00634e+06\n",
      "Early stopping, best iteration is:\n",
      "[214]\tvalid_0's rmse: 2001.58\tvalid_0's l2: 4.00631e+06\n"
     ]
    },
    {
     "data": {
      "text/plain": [
       "['Model_car_price_lgbm_v3.pkl']"
      ]
     },
     "execution_count": 102,
     "metadata": {},
     "output_type": "execute_result"
    }
   ],
   "source": [
    "X_train, X_test, y_train, y_test = train_test_split(X, Y, test_size=0.3, random_state=42)\n",
    "\n",
    "\n",
    "model = LGBMRegressor(\n",
    "    objective='regression',     \n",
    "    boosting_type='gbdt',\n",
    "    n_estimators=1000,\n",
    "    learning_rate=0.05,\n",
    "    max_depth=10,\n",
    "    num_leaves=256,\n",
    "    subsample=0.8,\n",
    "    colsample_bytree=0.8,\n",
    "    reg_alpha=0.1,\n",
    "    reg_lambda=1,\n",
    "    min_data_in_leaf=1000,\n",
    "    verbose=100,\n",
    "    random_state=42\n",
    ")\n",
    "\n",
    "model.fit(\n",
    "    X_train, y_train,\n",
    "    eval_set=[(X_test, y_test)],   \n",
    "    eval_metric='rmse',                              \n",
    "    callbacks=[early_stopping(stopping_rounds=50), log_evaluation(100)] \n",
    ")\n",
    "\n",
    "joblib.dump(model, '../Model/Model_car_price_lgbm_v3.pkl')"
   ]
  }
 ],
 "metadata": {
  "kernelspec": {
   "display_name": "Python 3",
   "language": "python",
   "name": "python3"
  },
  "language_info": {
   "codemirror_mode": {
    "name": "ipython",
    "version": 3
   },
   "file_extension": ".py",
   "mimetype": "text/x-python",
   "name": "python",
   "nbconvert_exporter": "python",
   "pygments_lexer": "ipython3",
   "version": "3.13.5"
  }
 },
 "nbformat": 4,
 "nbformat_minor": 5
}
